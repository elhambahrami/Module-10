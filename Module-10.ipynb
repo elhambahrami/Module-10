{
 "cells": [
  {
   "cell_type": "markdown",
   "metadata": {},
   "source": [
    "### Elham Bahrami\n",
    "#### 11/10/2019\n",
    "In this Module I am going to do some aggregation on some columns of NYCHousing Maintenance Violation data set, first I make a data frame which by default it gives me 1000 rows which is enough for the purpose."
   ]
  },
  {
   "cell_type": "code",
   "execution_count": 1,
   "metadata": {},
   "outputs": [],
   "source": [
    "import pandas as pd\n",
    "import matplotlib.pyplot as plt\n",
    "import numpy as np"
   ]
  },
  {
   "cell_type": "code",
   "execution_count": 2,
   "metadata": {},
   "outputs": [],
   "source": [
    "df = pd.read_csv(\"https://data.cityofnewyork.us/resource/wvxf-dwi5.csv\")"
   ]
  },
  {
   "cell_type": "code",
   "execution_count": 4,
   "metadata": {},
   "outputs": [
    {
     "data": {
      "text/plain": [
       "(1000, 40)"
      ]
     },
     "execution_count": 4,
     "metadata": {},
     "output_type": "execute_result"
    }
   ],
   "source": [
    "df.shape"
   ]
  },
  {
   "cell_type": "code",
   "execution_count": 5,
   "metadata": {},
   "outputs": [
    {
     "data": {
      "text/plain": [
       "Index(['violationid', 'buildingid', 'registrationid', 'boroid', 'boro',\n",
       "       'housenumber', 'lowhousenumber', 'highhousenumber', 'streetname',\n",
       "       'streetcode', 'zip', 'apartment', 'story', 'block', 'lot', 'class',\n",
       "       'inspectiondate', 'approveddate', 'originalcertifybydate',\n",
       "       'originalcorrectbydate', 'newcertifybydate', 'newcorrectbydate',\n",
       "       'certifieddate', 'ordernumber', 'novid', 'novdescription',\n",
       "       'novissueddate', 'currentstatusid', 'currentstatus',\n",
       "       'currentstatusdate', 'novtype', 'violationstatus', 'latitude',\n",
       "       'longitude', 'communityboard', 'councildistrict', 'censustract', 'bin',\n",
       "       'bbl', 'nta'],\n",
       "      dtype='object')"
      ]
     },
     "execution_count": 5,
     "metadata": {},
     "output_type": "execute_result"
    }
   ],
   "source": [
    "df.columns"
   ]
  },
  {
   "cell_type": "markdown",
   "metadata": {},
   "source": [
    "There are three columns that I am intersted in to do aggregation; 1. boro, 2. violationid, 3.class. I am going to aggregate how many incident and class incident are there in each boro."
   ]
  },
  {
   "cell_type": "code",
   "execution_count": 6,
   "metadata": {},
   "outputs": [
    {
     "name": "stdout",
     "output_type": "stream",
     "text": [
      "<class 'pandas.core.frame.DataFrame'>\n",
      "RangeIndex: 1000 entries, 0 to 999\n",
      "Data columns (total 40 columns):\n",
      "violationid              1000 non-null int64\n",
      "buildingid               1000 non-null int64\n",
      "registrationid           1000 non-null int64\n",
      "boroid                   1000 non-null int64\n",
      "boro                     1000 non-null object\n",
      "housenumber              1000 non-null object\n",
      "lowhousenumber           998 non-null object\n",
      "highhousenumber          1000 non-null object\n",
      "streetname               1000 non-null object\n",
      "streetcode               1000 non-null int64\n",
      "zip                      1000 non-null int64\n",
      "apartment                776 non-null object\n",
      "story                    954 non-null object\n",
      "block                    1000 non-null int64\n",
      "lot                      1000 non-null int64\n",
      "class                    1000 non-null object\n",
      "inspectiondate           1000 non-null object\n",
      "approveddate             1000 non-null object\n",
      "originalcertifybydate    994 non-null object\n",
      "originalcorrectbydate    994 non-null object\n",
      "newcertifybydate         11 non-null object\n",
      "newcorrectbydate         11 non-null object\n",
      "certifieddate            157 non-null object\n",
      "ordernumber              1000 non-null int64\n",
      "novid                    1000 non-null int64\n",
      "novdescription           1000 non-null object\n",
      "novissueddate            994 non-null object\n",
      "currentstatusid          1000 non-null int64\n",
      "currentstatus            1000 non-null object\n",
      "currentstatusdate        1000 non-null object\n",
      "novtype                  994 non-null object\n",
      "violationstatus          1000 non-null object\n",
      "latitude                 1000 non-null float64\n",
      "longitude                1000 non-null float64\n",
      "communityboard           1000 non-null int64\n",
      "councildistrict          1000 non-null int64\n",
      "censustract              1000 non-null int64\n",
      "bin                      1000 non-null int64\n",
      "bbl                      1000 non-null int64\n",
      "nta                      1000 non-null object\n",
      "dtypes: float64(2), int64(16), object(22)\n",
      "memory usage: 312.6+ KB\n"
     ]
    }
   ],
   "source": [
    "df.info()"
   ]
  },
  {
   "cell_type": "markdown",
   "metadata": {},
   "source": [
    "There is no NaN values in the columns! To make it easier for aggregation I'll make another DataFrame with violationid, class and boro columns."
   ]
  },
  {
   "cell_type": "code",
   "execution_count": 9,
   "metadata": {},
   "outputs": [],
   "source": [
    "dfm = df[['violationid', 'boro', 'class']]"
   ]
  },
  {
   "cell_type": "code",
   "execution_count": 12,
   "metadata": {},
   "outputs": [
    {
     "data": {
      "text/html": [
       "<div>\n",
       "<style scoped>\n",
       "    .dataframe tbody tr th:only-of-type {\n",
       "        vertical-align: middle;\n",
       "    }\n",
       "\n",
       "    .dataframe tbody tr th {\n",
       "        vertical-align: top;\n",
       "    }\n",
       "\n",
       "    .dataframe thead th {\n",
       "        text-align: right;\n",
       "    }\n",
       "</style>\n",
       "<table border=\"1\" class=\"dataframe\">\n",
       "  <thead>\n",
       "    <tr style=\"text-align: right;\">\n",
       "      <th></th>\n",
       "      <th>violationid</th>\n",
       "      <th>class</th>\n",
       "    </tr>\n",
       "    <tr>\n",
       "      <th>boro</th>\n",
       "      <th></th>\n",
       "      <th></th>\n",
       "    </tr>\n",
       "  </thead>\n",
       "  <tbody>\n",
       "    <tr>\n",
       "      <th>BRONX</th>\n",
       "      <td>345</td>\n",
       "      <td>345</td>\n",
       "    </tr>\n",
       "    <tr>\n",
       "      <th>BROOKLYN</th>\n",
       "      <td>361</td>\n",
       "      <td>361</td>\n",
       "    </tr>\n",
       "    <tr>\n",
       "      <th>MANHATTAN</th>\n",
       "      <td>230</td>\n",
       "      <td>230</td>\n",
       "    </tr>\n",
       "    <tr>\n",
       "      <th>QUEENS</th>\n",
       "      <td>62</td>\n",
       "      <td>62</td>\n",
       "    </tr>\n",
       "    <tr>\n",
       "      <th>STATEN ISLAND</th>\n",
       "      <td>2</td>\n",
       "      <td>2</td>\n",
       "    </tr>\n",
       "  </tbody>\n",
       "</table>\n",
       "</div>"
      ],
      "text/plain": [
       "               violationid  class\n",
       "boro                             \n",
       "BRONX                  345    345\n",
       "BROOKLYN               361    361\n",
       "MANHATTAN              230    230\n",
       "QUEENS                  62     62\n",
       "STATEN ISLAND            2      2"
      ]
     },
     "execution_count": 12,
     "metadata": {},
     "output_type": "execute_result"
    }
   ],
   "source": [
    "dfm.groupby('boro').count()"
   ]
  },
  {
   "cell_type": "markdown",
   "metadata": {},
   "source": [
    "As we can see Bronx has the largest number of incident! let's see which class has the highest amonut! what is your guess?"
   ]
  },
  {
   "cell_type": "code",
   "execution_count": 13,
   "metadata": {},
   "outputs": [
    {
     "data": {
      "text/plain": [
       "boro           class\n",
       "STATEN ISLAND  B          2\n",
       "BROOKLYN       I          3\n",
       "QUEENS         I          3\n",
       "               C          4\n",
       "               A         16\n",
       "MANHATTAN      C         26\n",
       "BRONX          C         39\n",
       "QUEENS         B         39\n",
       "BROOKLYN       C         48\n",
       "MANHATTAN      A         49\n",
       "BROOKLYN       A         79\n",
       "BRONX          A         91\n",
       "MANHATTAN      B        155\n",
       "BRONX          B        215\n",
       "BROOKLYN       B        231\n",
       "dtype: int64"
      ]
     },
     "execution_count": 13,
     "metadata": {},
     "output_type": "execute_result"
    }
   ],
   "source": [
    "dfm.groupby(['boro','class']).size().sort_values()"
   ]
  },
  {
   "cell_type": "markdown",
   "metadata": {},
   "source": [
    "As we see class B incident in Brooklyn has the highest amount!"
   ]
  }
 ],
 "metadata": {
  "kernelspec": {
   "display_name": "Python 3",
   "language": "python",
   "name": "python3"
  },
  "language_info": {
   "codemirror_mode": {
    "name": "ipython",
    "version": 3
   },
   "file_extension": ".py",
   "mimetype": "text/x-python",
   "name": "python",
   "nbconvert_exporter": "python",
   "pygments_lexer": "ipython3",
   "version": "3.7.2"
  }
 },
 "nbformat": 4,
 "nbformat_minor": 2
}
